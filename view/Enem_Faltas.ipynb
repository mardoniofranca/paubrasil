{
 "cells": [
  {
   "cell_type": "markdown",
   "metadata": {},
   "source": [
    "# A Influência do Transporte Público no Enem\n",
    "<ul>\n",
    "   <li> Nos dias de Enem : Transporte Público Gratuito para os Estudantes ! </li>\n",
    " <ul>"
   ]
  },
  {
   "cell_type": "markdown",
   "metadata": {},
   "source": [
    "# Hipótese :\n",
    "<ul>\n",
    "  <li> Os Alunos que não tem transporte privado em suas casas, no segundo dia de Enem, se por acaso não obtiverem um bom desempenho no primeiro dia de prova, tem uma alta probabilidade de faltar no segundo dia</li>\n",
    " <ul>"
   ]
  },
  {
   "cell_type": "markdown",
   "metadata": {},
   "source": [
    "# Campanha Estudantil :\n",
    "<ul>\n",
    "   <li>Façam todas as provas do Enem : Não desista das provas : teremos ônibus gratuito nos dias de Enem</li>\n",
    "<ul>"
   ]
  },
  {
   "cell_type": "markdown",
   "metadata": {},
   "source": [
    "# Base de Dados Selecionados :\n",
    "<hr /> Foram selecionados as seguintes cidades para as análises:\n",
    "<ul>\n",
    "   <li> Fortaleza - Ceará </li>\n",
    "   <li> Recife - Pernambuco </li>\n",
    "   <li> Natal - Rio Grande do Norte </li>\n",
    "   <li> Belo Horizonte - MG </li>\n",
    "   <li> Curitiba - Paraná </li>\n",
    "<ul>"
   ]
  },
  {
   "cell_type": "markdown",
   "metadata": {},
   "source": [
    "<strong> 1. Análise Inicial </strong>"
   ]
  },
  {
   "cell_type": "code",
   "execution_count": 1,
   "metadata": {},
   "outputs": [],
   "source": [
    "import pandas as pd\n",
    "import matplotlib.pyplot as plt\n",
    "import seaborn as sns, numpy as np"
   ]
  },
  {
   "cell_type": "code",
   "execution_count": 2,
   "metadata": {},
   "outputs": [
    {
     "data": {
      "text/html": [
       "<div>\n",
       "<style scoped>\n",
       "    .dataframe tbody tr th:only-of-type {\n",
       "        vertical-align: middle;\n",
       "    }\n",
       "\n",
       "    .dataframe tbody tr th {\n",
       "        vertical-align: top;\n",
       "    }\n",
       "\n",
       "    .dataframe thead th {\n",
       "        text-align: right;\n",
       "    }\n",
       "</style>\n",
       "<table border=\"1\" class=\"dataframe\">\n",
       "  <thead>\n",
       "    <tr style=\"text-align: right;\">\n",
       "      <th></th>\n",
       "      <th>NU_INSCRICAO</th>\n",
       "      <th>NU_ANO</th>\n",
       "      <th>CO_MUNICIPIO_RESIDENCIA</th>\n",
       "      <th>NO_MUNICIPIO_RESIDENCIA</th>\n",
       "      <th>CO_UF_RESIDENCIA</th>\n",
       "      <th>SG_UF_RESIDENCIA</th>\n",
       "      <th>NU_IDADE</th>\n",
       "      <th>TP_SEXO</th>\n",
       "      <th>TP_ESTADO_CIVIL</th>\n",
       "      <th>TP_COR_RACA</th>\n",
       "      <th>...</th>\n",
       "      <th>Q016</th>\n",
       "      <th>Q017</th>\n",
       "      <th>Q018</th>\n",
       "      <th>Q019</th>\n",
       "      <th>Q020</th>\n",
       "      <th>Q021</th>\n",
       "      <th>Q022</th>\n",
       "      <th>Q023</th>\n",
       "      <th>Q024</th>\n",
       "      <th>Q025</th>\n",
       "    </tr>\n",
       "  </thead>\n",
       "  <tbody>\n",
       "    <tr>\n",
       "      <th>0</th>\n",
       "      <td>190001015395</td>\n",
       "      <td>2019</td>\n",
       "      <td>2304400</td>\n",
       "      <td>Fortaleza</td>\n",
       "      <td>23</td>\n",
       "      <td>CE</td>\n",
       "      <td>20</td>\n",
       "      <td>M</td>\n",
       "      <td>1</td>\n",
       "      <td>3</td>\n",
       "      <td>...</td>\n",
       "      <td>A</td>\n",
       "      <td>A</td>\n",
       "      <td>A</td>\n",
       "      <td>B</td>\n",
       "      <td>B</td>\n",
       "      <td>A</td>\n",
       "      <td>C</td>\n",
       "      <td>A</td>\n",
       "      <td>A</td>\n",
       "      <td>A</td>\n",
       "    </tr>\n",
       "    <tr>\n",
       "      <th>1</th>\n",
       "      <td>190001027042</td>\n",
       "      <td>2019</td>\n",
       "      <td>1100205</td>\n",
       "      <td>Porto Velho</td>\n",
       "      <td>11</td>\n",
       "      <td>RO</td>\n",
       "      <td>20</td>\n",
       "      <td>F</td>\n",
       "      <td>1</td>\n",
       "      <td>3</td>\n",
       "      <td>...</td>\n",
       "      <td>A</td>\n",
       "      <td>A</td>\n",
       "      <td>A</td>\n",
       "      <td>B</td>\n",
       "      <td>A</td>\n",
       "      <td>A</td>\n",
       "      <td>C</td>\n",
       "      <td>A</td>\n",
       "      <td>A</td>\n",
       "      <td>B</td>\n",
       "    </tr>\n",
       "    <tr>\n",
       "      <th>2</th>\n",
       "      <td>190001029638</td>\n",
       "      <td>2019</td>\n",
       "      <td>1302603</td>\n",
       "      <td>Manaus</td>\n",
       "      <td>13</td>\n",
       "      <td>AM</td>\n",
       "      <td>22</td>\n",
       "      <td>F</td>\n",
       "      <td>1</td>\n",
       "      <td>3</td>\n",
       "      <td>...</td>\n",
       "      <td>B</td>\n",
       "      <td>A</td>\n",
       "      <td>B</td>\n",
       "      <td>C</td>\n",
       "      <td>A</td>\n",
       "      <td>B</td>\n",
       "      <td>C</td>\n",
       "      <td>A</td>\n",
       "      <td>C</td>\n",
       "      <td>B</td>\n",
       "    </tr>\n",
       "    <tr>\n",
       "      <th>3</th>\n",
       "      <td>190001044225</td>\n",
       "      <td>2019</td>\n",
       "      <td>2304400</td>\n",
       "      <td>Fortaleza</td>\n",
       "      <td>23</td>\n",
       "      <td>CE</td>\n",
       "      <td>57</td>\n",
       "      <td>F</td>\n",
       "      <td>3</td>\n",
       "      <td>3</td>\n",
       "      <td>...</td>\n",
       "      <td>A</td>\n",
       "      <td>B</td>\n",
       "      <td>A</td>\n",
       "      <td>B</td>\n",
       "      <td>A</td>\n",
       "      <td>A</td>\n",
       "      <td>B</td>\n",
       "      <td>A</td>\n",
       "      <td>A</td>\n",
       "      <td>A</td>\n",
       "    </tr>\n",
       "    <tr>\n",
       "      <th>4</th>\n",
       "      <td>190001059914</td>\n",
       "      <td>2019</td>\n",
       "      <td>2304400</td>\n",
       "      <td>Fortaleza</td>\n",
       "      <td>23</td>\n",
       "      <td>CE</td>\n",
       "      <td>18</td>\n",
       "      <td>M</td>\n",
       "      <td>1</td>\n",
       "      <td>1</td>\n",
       "      <td>...</td>\n",
       "      <td>A</td>\n",
       "      <td>A</td>\n",
       "      <td>A</td>\n",
       "      <td>B</td>\n",
       "      <td>A</td>\n",
       "      <td>A</td>\n",
       "      <td>B</td>\n",
       "      <td>A</td>\n",
       "      <td>A</td>\n",
       "      <td>A</td>\n",
       "    </tr>\n",
       "  </tbody>\n",
       "</table>\n",
       "<p>5 rows × 136 columns</p>\n",
       "</div>"
      ],
      "text/plain": [
       "   NU_INSCRICAO NU_ANO CO_MUNICIPIO_RESIDENCIA NO_MUNICIPIO_RESIDENCIA  \\\n",
       "0  190001015395   2019                 2304400               Fortaleza   \n",
       "1  190001027042   2019                 1100205             Porto Velho   \n",
       "2  190001029638   2019                 1302603                  Manaus   \n",
       "3  190001044225   2019                 2304400               Fortaleza   \n",
       "4  190001059914   2019                 2304400               Fortaleza   \n",
       "\n",
       "  CO_UF_RESIDENCIA SG_UF_RESIDENCIA NU_IDADE TP_SEXO TP_ESTADO_CIVIL  \\\n",
       "0               23               CE       20       M               1   \n",
       "1               11               RO       20       F               1   \n",
       "2               13               AM       22       F               1   \n",
       "3               23               CE       57       F               3   \n",
       "4               23               CE       18       M               1   \n",
       "\n",
       "  TP_COR_RACA  ... Q016 Q017 Q018 Q019 Q020 Q021 Q022 Q023 Q024 Q025  \n",
       "0           3  ...    A    A    A    B    B    A    C    A    A    A  \n",
       "1           3  ...    A    A    A    B    A    A    C    A    A    B  \n",
       "2           3  ...    B    A    B    C    A    B    C    A    C    B  \n",
       "3           3  ...    A    B    A    B    A    A    B    A    A    A  \n",
       "4           1  ...    A    A    A    B    A    A    B    A    A    A  \n",
       "\n",
       "[5 rows x 136 columns]"
      ]
     },
     "execution_count": 2,
     "metadata": {},
     "output_type": "execute_result"
    }
   ],
   "source": [
    "source = \"../data/DADOS_ENEM_2019_SAMPLE_Fortaleza.csv\"\n",
    "df = pd.read_csv(source,dtype=str)\n",
    "df.head()"
   ]
  },
  {
   "cell_type": "code",
   "execution_count": 3,
   "metadata": {},
   "outputs": [
    {
     "data": {
      "text/plain": [
       "95089"
      ]
     },
     "execution_count": 3,
     "metadata": {},
     "output_type": "execute_result"
    }
   ],
   "source": [
    "len(df)"
   ]
  },
  {
   "cell_type": "markdown",
   "metadata": {},
   "source": [
    "<strong> Informações referente à Transporte Privado dos Alunos </strong>\n",
    "<ul> <li> Q010 - Na sua residência tem carro? </li>\n",
    "     <li> A : Não</li>\n",
    "     <li> B : Sim, um </li>\n",
    "     <li> C : Sim, dois </li>\n",
    "     <li> D : Sim, três </li>\n",
    "     <li> E : Sim, quatro ou mais </li>           \n",
    "</ul>\n",
    "<ul> <li> Q011 - Na sua residência tem motocicleta? </li>\n",
    "     <li> A : Não</li>\n",
    "     <li> B : Sim, uma </li>\n",
    "     <li> C : Sim, duas </li>\n",
    "     <li> D : Sim, três </li>\n",
    "     <li> E : Sim, quatro ou mais </li>           \n",
    "</ul>"
   ]
  },
  {
   "cell_type": "code",
   "execution_count": 4,
   "metadata": {},
   "outputs": [
    {
     "data": {
      "text/plain": [
       "<AxesSubplot:>"
      ]
     },
     "execution_count": 4,
     "metadata": {},
     "output_type": "execute_result"
    },
    {
     "data": {
      "image/png": "[encoded data removed]",
      "text/plain": [
       "<Figure size 576x432 with 1 Axes>"
      ]
     },
     "metadata": {
      "needs_background": "light"
     },
     "output_type": "display_data"
    }
   ],
   "source": [
    "df[\"Q010\"].value_counts(normalize = True).plot.bar(figsize=(8,6))"
   ]
  },
  {
   "cell_type": "code",
   "execution_count": 5,
   "metadata": {},
   "outputs": [
    {
     "data": {
      "text/plain": [
       "<AxesSubplot:ylabel='Q010'>"
      ]
     },
     "execution_count": 5,
     "metadata": {},
     "output_type": "execute_result"
    },
    {
     "data": {
      "image/png": "[encoded data removed]",
      "text/plain": [
       "<Figure size 1152x576 with 1 Axes>"
      ]
     },
     "metadata": {},
     "output_type": "display_data"
    }
   ],
   "source": [
    "df[\"Q010\"].value_counts().plot.pie(figsize=(16,8))"
   ]
  },
  {
   "cell_type": "code",
   "execution_count": 6,
   "metadata": {},
   "outputs": [
    {
     "data": {
      "text/plain": [
       "<AxesSubplot:>"
      ]
     },
     "execution_count": 6,
     "metadata": {},
     "output_type": "execute_result"
    },
    {
     "data": {
      "image/png": "[encoded data removed]",
      "text/plain": [
       "<Figure size 576x432 with 1 Axes>"
      ]
     },
     "metadata": {
      "needs_background": "light"
     },
     "output_type": "display_data"
    }
   ],
   "source": [
    "df[\"Q011\"].value_counts(normalize = True).plot.bar(figsize=(8,6))"
   ]
  },
  {
   "cell_type": "code",
   "execution_count": 7,
   "metadata": {},
   "outputs": [
    {
     "data": {
      "text/plain": [
       "<AxesSubplot:ylabel='Q011'>"
      ]
     },
     "execution_count": 7,
     "metadata": {},
     "output_type": "execute_result"
    },
    {
     "data": {
      "image/png": "[encoded data removed]",
      "text/plain": [
       "<Figure size 1152x576 with 1 Axes>"
      ]
     },
     "metadata": {},
     "output_type": "display_data"
    }
   ],
   "source": [
    "df[\"Q011\"].value_counts().plot.pie(figsize=(16,8))"
   ]
  },
  {
   "cell_type": "markdown",
   "metadata": {},
   "source": [
    "<b> Consolidar Aluno com algum tipo de transporte seja carro ou motocicleta, a partir de 1 <b>"
   ]
  },
  {
   "cell_type": "code",
   "execution_count": 8,
   "metadata": {},
   "outputs": [],
   "source": [
    "def tem_transporte(opcaoVeiculo, opcaoMotocicleta):\n",
    "    if (opcaoVeiculo == 'A') and (opcaoMotocicleta =='A'):\n",
    "        return 0\n",
    "    else:\n",
    "        return 1"
   ]
  },
  {
   "cell_type": "code",
   "execution_count": 9,
   "metadata": {},
   "outputs": [
    {
     "data": {
      "text/plain": [
       "0"
      ]
     },
     "execution_count": 9,
     "metadata": {},
     "output_type": "execute_result"
    }
   ],
   "source": [
    "tem_transporte('A','A')"
   ]
  },
  {
   "cell_type": "code",
   "execution_count": 10,
   "metadata": {},
   "outputs": [
    {
     "data": {
      "text/plain": [
       "1"
      ]
     },
     "execution_count": 10,
     "metadata": {},
     "output_type": "execute_result"
    }
   ],
   "source": [
    "tem_transporte('B','E')"
   ]
  },
  {
   "cell_type": "code",
   "execution_count": 11,
   "metadata": {},
   "outputs": [
    {
     "data": {
      "text/plain": [
       "1"
      ]
     },
     "execution_count": 11,
     "metadata": {},
     "output_type": "execute_result"
    }
   ],
   "source": [
    "tem_transporte('A','E')"
   ]
  },
  {
   "cell_type": "code",
   "execution_count": 12,
   "metadata": {},
   "outputs": [],
   "source": [
    "df['TEM_TRANSPORTE'] = df.apply(lambda x: tem_transporte(x['Q010'], x['Q011']), axis=1)"
   ]
  },
  {
   "cell_type": "code",
   "execution_count": 13,
   "metadata": {},
   "outputs": [
    {
     "data": {
      "text/html": [
       "<div>\n",
       "<style scoped>\n",
       "    .dataframe tbody tr th:only-of-type {\n",
       "        vertical-align: middle;\n",
       "    }\n",
       "\n",
       "    .dataframe tbody tr th {\n",
       "        vertical-align: top;\n",
       "    }\n",
       "\n",
       "    .dataframe thead th {\n",
       "        text-align: right;\n",
       "    }\n",
       "</style>\n",
       "<table border=\"1\" class=\"dataframe\">\n",
       "  <thead>\n",
       "    <tr style=\"text-align: right;\">\n",
       "      <th></th>\n",
       "      <th>NU_INSCRICAO</th>\n",
       "      <th>NU_ANO</th>\n",
       "      <th>CO_MUNICIPIO_RESIDENCIA</th>\n",
       "      <th>NO_MUNICIPIO_RESIDENCIA</th>\n",
       "      <th>CO_UF_RESIDENCIA</th>\n",
       "      <th>SG_UF_RESIDENCIA</th>\n",
       "      <th>NU_IDADE</th>\n",
       "      <th>TP_SEXO</th>\n",
       "      <th>TP_ESTADO_CIVIL</th>\n",
       "      <th>TP_COR_RACA</th>\n",
       "      <th>...</th>\n",
       "      <th>Q017</th>\n",
       "      <th>Q018</th>\n",
       "      <th>Q019</th>\n",
       "      <th>Q020</th>\n",
       "      <th>Q021</th>\n",
       "      <th>Q022</th>\n",
       "      <th>Q023</th>\n",
       "      <th>Q024</th>\n",
       "      <th>Q025</th>\n",
       "      <th>TEM_TRANSPORTE</th>\n",
       "    </tr>\n",
       "  </thead>\n",
       "  <tbody>\n",
       "    <tr>\n",
       "      <th>0</th>\n",
       "      <td>190001015395</td>\n",
       "      <td>2019</td>\n",
       "      <td>2304400</td>\n",
       "      <td>Fortaleza</td>\n",
       "      <td>23</td>\n",
       "      <td>CE</td>\n",
       "      <td>20</td>\n",
       "      <td>M</td>\n",
       "      <td>1</td>\n",
       "      <td>3</td>\n",
       "      <td>...</td>\n",
       "      <td>A</td>\n",
       "      <td>A</td>\n",
       "      <td>B</td>\n",
       "      <td>B</td>\n",
       "      <td>A</td>\n",
       "      <td>C</td>\n",
       "      <td>A</td>\n",
       "      <td>A</td>\n",
       "      <td>A</td>\n",
       "      <td>0</td>\n",
       "    </tr>\n",
       "    <tr>\n",
       "      <th>1</th>\n",
       "      <td>190001027042</td>\n",
       "      <td>2019</td>\n",
       "      <td>1100205</td>\n",
       "      <td>Porto Velho</td>\n",
       "      <td>11</td>\n",
       "      <td>RO</td>\n",
       "      <td>20</td>\n",
       "      <td>F</td>\n",
       "      <td>1</td>\n",
       "      <td>3</td>\n",
       "      <td>...</td>\n",
       "      <td>A</td>\n",
       "      <td>A</td>\n",
       "      <td>B</td>\n",
       "      <td>A</td>\n",
       "      <td>A</td>\n",
       "      <td>C</td>\n",
       "      <td>A</td>\n",
       "      <td>A</td>\n",
       "      <td>B</td>\n",
       "      <td>1</td>\n",
       "    </tr>\n",
       "    <tr>\n",
       "      <th>2</th>\n",
       "      <td>190001029638</td>\n",
       "      <td>2019</td>\n",
       "      <td>1302603</td>\n",
       "      <td>Manaus</td>\n",
       "      <td>13</td>\n",
       "      <td>AM</td>\n",
       "      <td>22</td>\n",
       "      <td>F</td>\n",
       "      <td>1</td>\n",
       "      <td>3</td>\n",
       "      <td>...</td>\n",
       "      <td>A</td>\n",
       "      <td>B</td>\n",
       "      <td>C</td>\n",
       "      <td>A</td>\n",
       "      <td>B</td>\n",
       "      <td>C</td>\n",
       "      <td>A</td>\n",
       "      <td>C</td>\n",
       "      <td>B</td>\n",
       "      <td>1</td>\n",
       "    </tr>\n",
       "    <tr>\n",
       "      <th>3</th>\n",
       "      <td>190001044225</td>\n",
       "      <td>2019</td>\n",
       "      <td>2304400</td>\n",
       "      <td>Fortaleza</td>\n",
       "      <td>23</td>\n",
       "      <td>CE</td>\n",
       "      <td>57</td>\n",
       "      <td>F</td>\n",
       "      <td>3</td>\n",
       "      <td>3</td>\n",
       "      <td>...</td>\n",
       "      <td>B</td>\n",
       "      <td>A</td>\n",
       "      <td>B</td>\n",
       "      <td>A</td>\n",
       "      <td>A</td>\n",
       "      <td>B</td>\n",
       "      <td>A</td>\n",
       "      <td>A</td>\n",
       "      <td>A</td>\n",
       "      <td>0</td>\n",
       "    </tr>\n",
       "    <tr>\n",
       "      <th>4</th>\n",
       "      <td>190001059914</td>\n",
       "      <td>2019</td>\n",
       "      <td>2304400</td>\n",
       "      <td>Fortaleza</td>\n",
       "      <td>23</td>\n",
       "      <td>CE</td>\n",
       "      <td>18</td>\n",
       "      <td>M</td>\n",
       "      <td>1</td>\n",
       "      <td>1</td>\n",
       "      <td>...</td>\n",
       "      <td>A</td>\n",
       "      <td>A</td>\n",
       "      <td>B</td>\n",
       "      <td>A</td>\n",
       "      <td>A</td>\n",
       "      <td>B</td>\n",
       "      <td>A</td>\n",
       "      <td>A</td>\n",
       "      <td>A</td>\n",
       "      <td>0</td>\n",
       "    </tr>\n",
       "  </tbody>\n",
       "</table>\n",
       "<p>5 rows × 137 columns</p>\n",
       "</div>"
      ],
      "text/plain": [
       "   NU_INSCRICAO NU_ANO CO_MUNICIPIO_RESIDENCIA NO_MUNICIPIO_RESIDENCIA  \\\n",
       "0  190001015395   2019                 2304400               Fortaleza   \n",
       "1  190001027042   2019                 1100205             Porto Velho   \n",
       "2  190001029638   2019                 1302603                  Manaus   \n",
       "3  190001044225   2019                 2304400               Fortaleza   \n",
       "4  190001059914   2019                 2304400               Fortaleza   \n",
       "\n",
       "  CO_UF_RESIDENCIA SG_UF_RESIDENCIA NU_IDADE TP_SEXO TP_ESTADO_CIVIL  \\\n",
       "0               23               CE       20       M               1   \n",
       "1               11               RO       20       F               1   \n",
       "2               13               AM       22       F               1   \n",
       "3               23               CE       57       F               3   \n",
       "4               23               CE       18       M               1   \n",
       "\n",
       "  TP_COR_RACA  ... Q017 Q018 Q019 Q020 Q021 Q022 Q023 Q024 Q025 TEM_TRANSPORTE  \n",
       "0           3  ...    A    A    B    B    A    C    A    A    A              0  \n",
       "1           3  ...    A    A    B    A    A    C    A    A    B              1  \n",
       "2           3  ...    A    B    C    A    B    C    A    C    B              1  \n",
       "3           3  ...    B    A    B    A    A    B    A    A    A              0  \n",
       "4           1  ...    A    A    B    A    A    B    A    A    A              0  \n",
       "\n",
       "[5 rows x 137 columns]"
      ]
     },
     "execution_count": 13,
     "metadata": {},
     "output_type": "execute_result"
    }
   ],
   "source": [
    "df.head()"
   ]
  },
  {
   "cell_type": "code",
   "execution_count": 188,
   "metadata": {},
   "outputs": [
    {
     "data": {
      "text/plain": [
       "<AxesSubplot:>"
      ]
     },
     "execution_count": 188,
     "metadata": {},
     "output_type": "execute_result"
    },
    {
     "data": {
      "image/png": "[encoded data removed]",
      "text/plain": [
       "<Figure size 576x432 with 1 Axes>"
      ]
     },
     "metadata": {
      "needs_background": "light"
     },
     "output_type": "display_data"
    }
   ],
   "source": [
    "df[\"TEM_TRANSPORTE\"].value_counts(normalize = True).plot.bar(figsize=(8,6))"
   ]
  },
  {
   "cell_type": "code",
   "execution_count": 14,
   "metadata": {},
   "outputs": [
    {
     "data": {
      "text/plain": [
       "<AxesSubplot:ylabel='TEM_TRANSPORTE'>"
      ]
     },
     "execution_count": 14,
     "metadata": {},
     "output_type": "execute_result"
    },
    {
     "data": {
      "image/png": "[encoded data removed]",
      "text/plain": [
       "<Figure size 1152x576 with 1 Axes>"
      ]
     },
     "metadata": {},
     "output_type": "display_data"
    }
   ],
   "source": [
    "df[\"TEM_TRANSPORTE\"].value_counts().plot.pie(figsize=(16,8))"
   ]
  },
  {
   "cell_type": "markdown",
   "metadata": {},
   "source": [
    "# Calendário Enem 2019 :\n",
    "<hr /> O Enem acontece em duas datas como as seguines provas em cada dia:\n",
    "<ul>\n",
    "   <li> 1o. Dia – 03.11.19 (Provas : LC / Redação / CH). </li>\n",
    "   <li> 2o. Dia - 10.11.19 (Provas : CN / Matemáticas).</li>\n",
    "</ul>\n",
    "<b>Fonte</b> : http://https://inep-enem.com.br/calendario-enem-2019-2020"
   ]
  },
  {
   "cell_type": "code",
   "execution_count": 187,
   "metadata": {},
   "outputs": [],
   "source": [
    "provas = [\"NU_NOTA_LC\", \"NU_NOTA_REDACAO\", \"NU_NOTA_CH\", \"NU_NOTA_CN\",\"NU_NOTA_MT\"]\n",
    "\n",
    "provas_1dia = [\"NU_NOTA_LC\", \"NU_NOTA_REDACAO\", \"NU_NOTA_CH\"]\n",
    "\n",
    "provas_2dia = [\"NU_NOTA_CN\",\"NU_NOTA_MT\"]\n",
    "\n",
    "df[\"NU_NOTA_LC\"]      = pd.to_numeric(df[\"NU_NOTA_LC\"])\n",
    "df[\"NU_NOTA_REDACAO\"] = pd.to_numeric(df[\"NU_NOTA_REDACAO\"])\n",
    "df[\"NU_NOTA_CH\"]      = pd.to_numeric(df[\"NU_NOTA_CH\"])\n",
    "\n",
    "df[\"NU_NOTA_CN\"]      = pd.to_numeric(df[\"NU_NOTA_CN\"])\n",
    "df[\"NU_NOTA_MT\"]      = pd.to_numeric(df[\"NU_NOTA_MT\"])\n",
    "\n",
    "\n",
    "df[\"NU_NOTA_TOTAL\"]      = df[provas].sum(axis=1)\n",
    "df[\"NU_NOTA_TOTAL_1DIA\"] = df[provas_1dia].sum(axis=1)\n",
    "df[\"NU_NOTA_TOTAL_2DIA\"] = df[provas_2dia].sum(axis=1)\n",
    "\n",
    "provas.append(\"NU_NOTA_TOTAL\")"
   ]
  },
  {
   "cell_type": "code",
   "execution_count": 16,
   "metadata": {},
   "outputs": [
    {
     "data": {
      "text/html": [
       "<div>\n",
       "<style scoped>\n",
       "    .dataframe tbody tr th:only-of-type {\n",
       "        vertical-align: middle;\n",
       "    }\n",
       "\n",
       "    .dataframe tbody tr th {\n",
       "        vertical-align: top;\n",
       "    }\n",
       "\n",
       "    .dataframe thead th {\n",
       "        text-align: right;\n",
       "    }\n",
       "</style>\n",
       "<table border=\"1\" class=\"dataframe\">\n",
       "  <thead>\n",
       "    <tr style=\"text-align: right;\">\n",
       "      <th></th>\n",
       "      <th>NU_NOTA_LC</th>\n",
       "      <th>NU_NOTA_REDACAO</th>\n",
       "      <th>NU_NOTA_CH</th>\n",
       "      <th>NU_NOTA_CN</th>\n",
       "      <th>NU_NOTA_MT</th>\n",
       "      <th>NU_NOTA_TOTAL</th>\n",
       "    </tr>\n",
       "  </thead>\n",
       "  <tbody>\n",
       "    <tr>\n",
       "      <th>0</th>\n",
       "      <td>467.0</td>\n",
       "      <td>620.0</td>\n",
       "      <td>453.2</td>\n",
       "      <td>403.5</td>\n",
       "      <td>402.9</td>\n",
       "      <td>2346.6</td>\n",
       "    </tr>\n",
       "    <tr>\n",
       "      <th>1</th>\n",
       "      <td>NaN</td>\n",
       "      <td>NaN</td>\n",
       "      <td>NaN</td>\n",
       "      <td>NaN</td>\n",
       "      <td>NaN</td>\n",
       "      <td>0.0</td>\n",
       "    </tr>\n",
       "    <tr>\n",
       "      <th>2</th>\n",
       "      <td>NaN</td>\n",
       "      <td>NaN</td>\n",
       "      <td>NaN</td>\n",
       "      <td>NaN</td>\n",
       "      <td>NaN</td>\n",
       "      <td>0.0</td>\n",
       "    </tr>\n",
       "    <tr>\n",
       "      <th>3</th>\n",
       "      <td>NaN</td>\n",
       "      <td>NaN</td>\n",
       "      <td>NaN</td>\n",
       "      <td>NaN</td>\n",
       "      <td>NaN</td>\n",
       "      <td>0.0</td>\n",
       "    </tr>\n",
       "    <tr>\n",
       "      <th>4</th>\n",
       "      <td>555.7</td>\n",
       "      <td>680.0</td>\n",
       "      <td>625.6</td>\n",
       "      <td>553.7</td>\n",
       "      <td>468.9</td>\n",
       "      <td>2883.9</td>\n",
       "    </tr>\n",
       "  </tbody>\n",
       "</table>\n",
       "</div>"
      ],
      "text/plain": [
       "   NU_NOTA_LC  NU_NOTA_REDACAO  NU_NOTA_CH  NU_NOTA_CN  NU_NOTA_MT  \\\n",
       "0       467.0            620.0       453.2       403.5       402.9   \n",
       "1         NaN              NaN         NaN         NaN         NaN   \n",
       "2         NaN              NaN         NaN         NaN         NaN   \n",
       "3         NaN              NaN         NaN         NaN         NaN   \n",
       "4       555.7            680.0       625.6       553.7       468.9   \n",
       "\n",
       "   NU_NOTA_TOTAL  \n",
       "0         2346.6  \n",
       "1            0.0  \n",
       "2            0.0  \n",
       "3            0.0  \n",
       "4         2883.9  "
      ]
     },
     "execution_count": 16,
     "metadata": {},
     "output_type": "execute_result"
    }
   ],
   "source": [
    "df[provas].head()"
   ]
  },
  {
   "cell_type": "code",
   "execution_count": 17,
   "metadata": {},
   "outputs": [
    {
     "data": {
      "text/html": [
       "<div>\n",
       "<style scoped>\n",
       "    .dataframe tbody tr th:only-of-type {\n",
       "        vertical-align: middle;\n",
       "    }\n",
       "\n",
       "    .dataframe tbody tr th {\n",
       "        vertical-align: top;\n",
       "    }\n",
       "\n",
       "    .dataframe thead th {\n",
       "        text-align: right;\n",
       "    }\n",
       "</style>\n",
       "<table border=\"1\" class=\"dataframe\">\n",
       "  <thead>\n",
       "    <tr style=\"text-align: right;\">\n",
       "      <th></th>\n",
       "      <th>NU_NOTA_LC</th>\n",
       "      <th>NU_NOTA_REDACAO</th>\n",
       "      <th>NU_NOTA_CH</th>\n",
       "      <th>NU_NOTA_CN</th>\n",
       "      <th>NU_NOTA_MT</th>\n",
       "      <th>NU_NOTA_TOTAL</th>\n",
       "    </tr>\n",
       "  </thead>\n",
       "  <tbody>\n",
       "    <tr>\n",
       "      <th>36235</th>\n",
       "      <td>597.3</td>\n",
       "      <td>640.0</td>\n",
       "      <td>621.9</td>\n",
       "      <td>559.5</td>\n",
       "      <td>655.0</td>\n",
       "      <td>3073.7</td>\n",
       "    </tr>\n",
       "    <tr>\n",
       "      <th>2026</th>\n",
       "      <td>540.5</td>\n",
       "      <td>700.0</td>\n",
       "      <td>574.6</td>\n",
       "      <td>544.1</td>\n",
       "      <td>493.6</td>\n",
       "      <td>2852.8</td>\n",
       "    </tr>\n",
       "    <tr>\n",
       "      <th>26856</th>\n",
       "      <td>597.3</td>\n",
       "      <td>780.0</td>\n",
       "      <td>556.5</td>\n",
       "      <td>493.7</td>\n",
       "      <td>636.0</td>\n",
       "      <td>3063.5</td>\n",
       "    </tr>\n",
       "    <tr>\n",
       "      <th>36840</th>\n",
       "      <td>440.0</td>\n",
       "      <td>640.0</td>\n",
       "      <td>368.2</td>\n",
       "      <td>393.1</td>\n",
       "      <td>493.4</td>\n",
       "      <td>2334.7</td>\n",
       "    </tr>\n",
       "    <tr>\n",
       "      <th>1196</th>\n",
       "      <td>577.6</td>\n",
       "      <td>780.0</td>\n",
       "      <td>582.6</td>\n",
       "      <td>495.5</td>\n",
       "      <td>633.6</td>\n",
       "      <td>3069.3</td>\n",
       "    </tr>\n",
       "  </tbody>\n",
       "</table>\n",
       "</div>"
      ],
      "text/plain": [
       "       NU_NOTA_LC  NU_NOTA_REDACAO  NU_NOTA_CH  NU_NOTA_CN  NU_NOTA_MT  \\\n",
       "36235       597.3            640.0       621.9       559.5       655.0   \n",
       "2026        540.5            700.0       574.6       544.1       493.6   \n",
       "26856       597.3            780.0       556.5       493.7       636.0   \n",
       "36840       440.0            640.0       368.2       393.1       493.4   \n",
       "1196        577.6            780.0       582.6       495.5       633.6   \n",
       "\n",
       "       NU_NOTA_TOTAL  \n",
       "36235         3073.7  \n",
       "2026          2852.8  \n",
       "26856         3063.5  \n",
       "36840         2334.7  \n",
       "1196          3069.3  "
      ]
     },
     "execution_count": 17,
     "metadata": {},
     "output_type": "execute_result"
    }
   ],
   "source": [
    "#Filtrar por notas não nulas\n",
    "df = df.query(\"NU_NOTA_TOTAL != 0\")\n",
    "df[provas].sample(5).head()"
   ]
  },
  {
   "cell_type": "code",
   "execution_count": 18,
   "metadata": {},
   "outputs": [],
   "source": [
    "veiculo_ord = df[\"Q010\"].unique()\n",
    "veiculo_ord.sort()"
   ]
  },
  {
   "cell_type": "code",
   "execution_count": 19,
   "metadata": {},
   "outputs": [
    {
     "data": {
      "text/plain": [
       "Text(0.5, 1.0, 'BoxPlot notas de redacao influenciado pelo meio de transporte (próprio ou público)')"
      ]
     },
     "execution_count": 19,
     "metadata": {},
     "output_type": "execute_result"
    },
    {
     "data": {
      "image/png": "[encoded data removed]",
      "text/plain": [
       "<Figure size 720x576 with 1 Axes>"
      ]
     },
     "metadata": {
      "needs_background": "light"
     },
     "output_type": "display_data"
    }
   ],
   "source": [
    "plt.figure(figsize=(10,8))\n",
    "sns.boxplot(x = \"Q010\", y = \"NU_NOTA_REDACAO\", data  = df, order = veiculo_ord )\n",
    "plt.title(\"BoxPlot notas de redacao influenciado pelo meio de transporte (carro) (próprio ou público)\")"
   ]
  },
  {
   "cell_type": "code",
   "execution_count": 20,
   "metadata": {},
   "outputs": [
    {
     "data": {
      "text/plain": [
       "Text(0.5, 1.0, 'BoxPlot notas de redacao influenciado pelo meio de transporte (próprio ou público)')"
      ]
     },
     "execution_count": 20,
     "metadata": {},
     "output_type": "execute_result"
    },
    {
     "data": {
      "image/png": "[encoded data removed]",
      "text/plain": [
       "<Figure size 720x576 with 1 Axes>"
      ]
     },
     "metadata": {
      "needs_background": "light"
     },
     "output_type": "display_data"
    }
   ],
   "source": [
    "plt.figure(figsize=(10,8))\n",
    "sns.boxplot(x = \"Q011\", y = \"NU_NOTA_REDACAO\", data  = df, order = veiculo_ord )\n",
    "plt.title(\"BoxPlot notas de redacao influenciado pelo meio de transporte (motocicleta)  (próprio ou público)\")"
   ]
  },
  {
   "cell_type": "code",
   "execution_count": 22,
   "metadata": {},
   "outputs": [
    {
     "data": {
      "text/plain": [
       "Text(0.5, 1.0, 'BoxPlot notas de redacao influenciado pelo meio de transporte (próprio ou público)')"
      ]
     },
     "execution_count": 22,
     "metadata": {},
     "output_type": "execute_result"
    },
    {
     "data": {
      "image/png": "[encoded data removed]",
      "text/plain": [
       "<Figure size 720x576 with 1 Axes>"
      ]
     },
     "metadata": {
      "needs_background": "light"
     },
     "output_type": "display_data"
    }
   ],
   "source": [
    "plt.figure(figsize=(10,8))\n",
    "sns.boxplot(x = \"TEM_TRANSPORTE\", y = \"NU_NOTA_REDACAO\", data  = df )\n",
    "plt.title(\"BoxPlot notas de redacao influenciado pelo meio de transporte (próprio ou público)\")"
   ]
  },
  {
   "cell_type": "code",
   "execution_count": 23,
   "metadata": {},
   "outputs": [
    {
     "data": {
      "text/plain": [
       "Text(0.5, 1.0, 'BoxPlot notas de total influenciado pelo meio de transporte (próprio ou público)')"
      ]
     },
     "execution_count": 23,
     "metadata": {},
     "output_type": "execute_result"
    },
    {
     "data": {
      "image/png": "[encoded data removed]",
      "text/plain": [
       "<Figure size 720x576 with 1 Axes>"
      ]
     },
     "metadata": {
      "needs_background": "light"
     },
     "output_type": "display_data"
    }
   ],
   "source": [
    "plt.figure(figsize=(10,8))\n",
    "sns.boxplot(x = \"TEM_TRANSPORTE\", y = \"NU_NOTA_TOTAL\", data  = df )\n",
    "plt.title(\"BoxPlot notas de total influenciado pelo meio de transporte (próprio ou público)\")"
   ]
  },
  {
   "cell_type": "code",
   "execution_count": 25,
   "metadata": {},
   "outputs": [
    {
     "data": {
      "text/plain": [
       "Text(0.5, 1.0, 'BoxPlot notas de redacao influenciado pelo meio de transporte (próprio ou público)')"
      ]
     },
     "execution_count": 25,
     "metadata": {},
     "output_type": "execute_result"
    },
    {
     "data": {
      "image/png": "[encoded data removed]",
      "text/plain": [
       "<Figure size 720x576 with 1 Axes>"
      ]
     },
     "metadata": {
      "needs_background": "light"
     },
     "output_type": "display_data"
    }
   ],
   "source": [
    "plt.figure(figsize=(10,8))\n",
    "sns.boxplot(x = \"TEM_TRANSPORTE\", y = \"NU_NOTA_TOTAL_1DIA\", data  = df )\n",
    "plt.title(\"BoxPlot notas de redacao influenciado pelo meio de transporte (próprio ou público)\")"
   ]
  },
  {
   "cell_type": "code",
   "execution_count": 26,
   "metadata": {},
   "outputs": [
    {
     "data": {
      "text/plain": [
       "Text(0.5, 1.0, 'BoxPlot notas de redacao influenciado pelo meio de transporte (próprio ou público)')"
      ]
     },
     "execution_count": 26,
     "metadata": {},
     "output_type": "execute_result"
    },
    {
     "data": {
      "image/png": "[encoded data removed]",
      "text/plain": [
       "<Figure size 720x576 with 1 Axes>"
      ]
     },
     "metadata": {
      "needs_background": "light"
     },
     "output_type": "display_data"
    }
   ],
   "source": [
    "plt.figure(figsize=(10,8))\n",
    "sns.boxplot(x = \"TEM_TRANSPORTE\", y = \"NU_NOTA_TOTAL_2DIA\", data  = df )\n",
    "plt.title(\"BoxPlot notas de redacao influenciado pelo meio de transporte (próprio ou público)\")"
   ]
  },
  {
   "cell_type": "markdown",
   "metadata": {},
   "source": [
    "<strong> Informações referente à Presença nas Provas </strong>\n",
    "<ul> <li> TP_PRESENCA_LC - Presença na prova objetiva de Linguagens e Códigos </li>\n",
    "     <li> 0 : Faltou à prova </li>\n",
    "     <li> 1 : Presente na prova </li>\n",
    "     <li> 2 : Eliminado na prova </li>\n",
    "</ul>\n",
    "<ul> <li> TP_PRESENCA_CH - Presença na prova objetiva de Ciências Humanas </li>\n",
    "     <li> 0 : Faltou à prova </li>\n",
    "     <li> 1 : Presente na prova </li>\n",
    "     <li> 2 : Eliminado na prova </li>\n",
    "</ul>\n",
    "<ul> <li> TP_PRESENCA_MT - Presença na prova objetiva de Matemática </li>\n",
    "     <li> 0 : Faltou à prova </li>\n",
    "     <li> 1 : Presente na prova </li>\n",
    "     <li> 2 : Eliminado na prova </li>\n",
    "</ul>\n",
    "<ul> <li> TP_PRESENCA_CN - Presença na prova objetiva de Ciências da Natureza </li>\n",
    "     <li> 0 : Faltou à prova </li>\n",
    "     <li> 1 : Presente na prova </li>\n",
    "     <li> 2 : Eliminado na prova </li>\n",
    "</ul>"
   ]
  },
  {
   "cell_type": "markdown",
   "metadata": {},
   "source": [
    "<b> Consolidar Aluno que faltou no 2o. Dia <b>"
   ]
  },
  {
   "cell_type": "code",
   "execution_count": 59,
   "metadata": {},
   "outputs": [],
   "source": [
    "def fez_prova_2dia(presencaMT, presencaCN):\n",
    "    if (presencaMT == '0') or (presencaCN =='0'):\n",
    "        return 0\n",
    "    else:\n",
    "        return 1"
   ]
  },
  {
   "cell_type": "code",
   "execution_count": 60,
   "metadata": {},
   "outputs": [
    {
     "data": {
      "text/plain": [
       "0"
      ]
     },
     "execution_count": 60,
     "metadata": {},
     "output_type": "execute_result"
    }
   ],
   "source": [
    "fez_prova_2dia('0','0')"
   ]
  },
  {
   "cell_type": "code",
   "execution_count": 61,
   "metadata": {},
   "outputs": [
    {
     "data": {
      "text/plain": [
       "0"
      ]
     },
     "execution_count": 61,
     "metadata": {},
     "output_type": "execute_result"
    }
   ],
   "source": [
    "fez_prova_2dia('1','0')"
   ]
  },
  {
   "cell_type": "code",
   "execution_count": 62,
   "metadata": {},
   "outputs": [
    {
     "data": {
      "text/plain": [
       "1"
      ]
     },
     "execution_count": 62,
     "metadata": {},
     "output_type": "execute_result"
    }
   ],
   "source": [
    "fez_prova_2dia('1','1')"
   ]
  },
  {
   "cell_type": "code",
   "execution_count": 63,
   "metadata": {},
   "outputs": [],
   "source": [
    "df['TP_FEZ_PROVA_2DIA'] = df.apply(lambda x: fez_prova_2dia(x['TP_PRESENCA_MT'], x['TP_PRESENCA_CN']), axis=1)"
   ]
  },
  {
   "cell_type": "code",
   "execution_count": 64,
   "metadata": {},
   "outputs": [
    {
     "data": {
      "text/html": [
       "<div>\n",
       "<style scoped>\n",
       "    .dataframe tbody tr th:only-of-type {\n",
       "        vertical-align: middle;\n",
       "    }\n",
       "\n",
       "    .dataframe tbody tr th {\n",
       "        vertical-align: top;\n",
       "    }\n",
       "\n",
       "    .dataframe thead th {\n",
       "        text-align: right;\n",
       "    }\n",
       "</style>\n",
       "<table border=\"1\" class=\"dataframe\">\n",
       "  <thead>\n",
       "    <tr style=\"text-align: right;\">\n",
       "      <th></th>\n",
       "      <th>NU_NOTA_LC</th>\n",
       "      <th>NU_NOTA_REDACAO</th>\n",
       "      <th>NU_NOTA_CH</th>\n",
       "      <th>NU_NOTA_CN</th>\n",
       "      <th>NU_NOTA_MT</th>\n",
       "      <th>NU_NOTA_TOTAL</th>\n",
       "    </tr>\n",
       "  </thead>\n",
       "  <tbody>\n",
       "    <tr>\n",
       "      <th>61380</th>\n",
       "      <td>595.5</td>\n",
       "      <td>500.0</td>\n",
       "      <td>578.3</td>\n",
       "      <td>507.7</td>\n",
       "      <td>746.8</td>\n",
       "      <td>2928.3</td>\n",
       "    </tr>\n",
       "    <tr>\n",
       "      <th>45249</th>\n",
       "      <td>484.5</td>\n",
       "      <td>280.0</td>\n",
       "      <td>501.1</td>\n",
       "      <td>358.3</td>\n",
       "      <td>489.0</td>\n",
       "      <td>2112.9</td>\n",
       "    </tr>\n",
       "    <tr>\n",
       "      <th>21217</th>\n",
       "      <td>471.8</td>\n",
       "      <td>220.0</td>\n",
       "      <td>429.9</td>\n",
       "      <td>390.0</td>\n",
       "      <td>478.6</td>\n",
       "      <td>1990.3</td>\n",
       "    </tr>\n",
       "    <tr>\n",
       "      <th>50943</th>\n",
       "      <td>430.5</td>\n",
       "      <td>680.0</td>\n",
       "      <td>424.1</td>\n",
       "      <td>418.6</td>\n",
       "      <td>501.1</td>\n",
       "      <td>2454.3</td>\n",
       "    </tr>\n",
       "  </tbody>\n",
       "</table>\n",
       "</div>"
      ],
      "text/plain": [
       "       NU_NOTA_LC  NU_NOTA_REDACAO  NU_NOTA_CH  NU_NOTA_CN  NU_NOTA_MT  \\\n",
       "61380       595.5            500.0       578.3       507.7       746.8   \n",
       "45249       484.5            280.0       501.1       358.3       489.0   \n",
       "21217       471.8            220.0       429.9       390.0       478.6   \n",
       "50943       430.5            680.0       424.1       418.6       501.1   \n",
       "\n",
       "       NU_NOTA_TOTAL  \n",
       "61380         2928.3  \n",
       "45249         2112.9  \n",
       "21217         1990.3  \n",
       "50943         2454.3  "
      ]
     },
     "execution_count": 64,
     "metadata": {},
     "output_type": "execute_result"
    }
   ],
   "source": [
    "df_fez_prova_2dia = df.query(\"TP_FEZ_PROVA_2DIA == 1\")\n",
    "df_fez_prova_2dia[provas].sample(4).head()"
   ]
  },
  {
   "cell_type": "code",
   "execution_count": 65,
   "metadata": {},
   "outputs": [
    {
     "data": {
      "text/html": [
       "<div>\n",
       "<style scoped>\n",
       "    .dataframe tbody tr th:only-of-type {\n",
       "        vertical-align: middle;\n",
       "    }\n",
       "\n",
       "    .dataframe tbody tr th {\n",
       "        vertical-align: top;\n",
       "    }\n",
       "\n",
       "    .dataframe thead th {\n",
       "        text-align: right;\n",
       "    }\n",
       "</style>\n",
       "<table border=\"1\" class=\"dataframe\">\n",
       "  <thead>\n",
       "    <tr style=\"text-align: right;\">\n",
       "      <th></th>\n",
       "      <th>NU_NOTA_LC</th>\n",
       "      <th>NU_NOTA_REDACAO</th>\n",
       "      <th>NU_NOTA_CH</th>\n",
       "      <th>NU_NOTA_CN</th>\n",
       "      <th>NU_NOTA_MT</th>\n",
       "      <th>NU_NOTA_TOTAL</th>\n",
       "    </tr>\n",
       "  </thead>\n",
       "  <tbody>\n",
       "    <tr>\n",
       "      <th>21</th>\n",
       "      <td>603.6</td>\n",
       "      <td>600.0</td>\n",
       "      <td>561.8</td>\n",
       "      <td>NaN</td>\n",
       "      <td>NaN</td>\n",
       "      <td>1765.4</td>\n",
       "    </tr>\n",
       "    <tr>\n",
       "      <th>53</th>\n",
       "      <td>421.1</td>\n",
       "      <td>360.0</td>\n",
       "      <td>425.5</td>\n",
       "      <td>NaN</td>\n",
       "      <td>NaN</td>\n",
       "      <td>1206.6</td>\n",
       "    </tr>\n",
       "    <tr>\n",
       "      <th>101</th>\n",
       "      <td>448.5</td>\n",
       "      <td>0.0</td>\n",
       "      <td>397.3</td>\n",
       "      <td>NaN</td>\n",
       "      <td>NaN</td>\n",
       "      <td>845.8</td>\n",
       "    </tr>\n",
       "    <tr>\n",
       "      <th>165</th>\n",
       "      <td>465.6</td>\n",
       "      <td>460.0</td>\n",
       "      <td>352.2</td>\n",
       "      <td>NaN</td>\n",
       "      <td>NaN</td>\n",
       "      <td>1277.8</td>\n",
       "    </tr>\n",
       "    <tr>\n",
       "      <th>239</th>\n",
       "      <td>560.5</td>\n",
       "      <td>580.0</td>\n",
       "      <td>574.4</td>\n",
       "      <td>NaN</td>\n",
       "      <td>NaN</td>\n",
       "      <td>1714.9</td>\n",
       "    </tr>\n",
       "  </tbody>\n",
       "</table>\n",
       "</div>"
      ],
      "text/plain": [
       "     NU_NOTA_LC  NU_NOTA_REDACAO  NU_NOTA_CH  NU_NOTA_CN  NU_NOTA_MT  \\\n",
       "21        603.6            600.0       561.8         NaN         NaN   \n",
       "53        421.1            360.0       425.5         NaN         NaN   \n",
       "101       448.5              0.0       397.3         NaN         NaN   \n",
       "165       465.6            460.0       352.2         NaN         NaN   \n",
       "239       560.5            580.0       574.4         NaN         NaN   \n",
       "\n",
       "     NU_NOTA_TOTAL  \n",
       "21          1765.4  \n",
       "53          1206.6  \n",
       "101          845.8  \n",
       "165         1277.8  \n",
       "239         1714.9  "
      ]
     },
     "execution_count": 65,
     "metadata": {},
     "output_type": "execute_result"
    }
   ],
   "source": [
    "df_nao_fez_prova_2dia = df.query(\"TP_FEZ_PROVA_2DIA == 0\")\n",
    "df_nao_fez_prova_2dia[provas].head()"
   ]
  },
  {
   "cell_type": "code",
   "execution_count": 189,
   "metadata": {},
   "outputs": [
    {
     "data": {
      "text/plain": [
       "<AxesSubplot:>"
      ]
     },
     "execution_count": 189,
     "metadata": {},
     "output_type": "execute_result"
    },
    {
     "data": {
      "image/png": "[encoded data removed]",
      "text/plain": [
       "<Figure size 576x432 with 1 Axes>"
      ]
     },
     "metadata": {
      "needs_background": "light"
     },
     "output_type": "display_data"
    }
   ],
   "source": [
    "df_nao_fez_prova_2dia[\"TEM_TRANSPORTE\"].value_counts(normalize = True).plot.bar(figsize=(8,6))"
   ]
  },
  {
   "cell_type": "code",
   "execution_count": 66,
   "metadata": {},
   "outputs": [
    {
     "data": {
      "text/plain": [
       "<AxesSubplot:ylabel='TEM_TRANSPORTE'>"
      ]
     },
     "execution_count": 66,
     "metadata": {},
     "output_type": "execute_result"
    },
    {
     "data": {
      "image/png": "[encoded data removed]",
      "text/plain": [
       "<Figure size 1152x576 with 1 Axes>"
      ]
     },
     "metadata": {},
     "output_type": "display_data"
    }
   ],
   "source": [
    "df_nao_fez_prova_2dia[\"TEM_TRANSPORTE\"].value_counts().plot.pie(figsize=(16,8))"
   ]
  },
  {
   "cell_type": "code",
   "execution_count": 72,
   "metadata": {},
   "outputs": [
    {
     "data": {
      "text/plain": [
       "0    0.544053\n",
       "1    0.455947\n",
       "Name: TEM_TRANSPORTE, dtype: float64"
      ]
     },
     "execution_count": 72,
     "metadata": {},
     "output_type": "execute_result"
    }
   ],
   "source": [
    "df[\"TEM_TRANSPORTE\"].value_counts(normalize = True)"
   ]
  },
  {
   "cell_type": "code",
   "execution_count": 73,
   "metadata": {},
   "outputs": [
    {
     "data": {
      "text/plain": [
       "0    0.54028\n",
       "1    0.45972\n",
       "Name: TEM_TRANSPORTE, dtype: float64"
      ]
     },
     "execution_count": 73,
     "metadata": {},
     "output_type": "execute_result"
    }
   ],
   "source": [
    "df_fez_prova_2dia[\"TEM_TRANSPORTE\"].value_counts(normalize = True)"
   ]
  },
  {
   "cell_type": "code",
   "execution_count": 74,
   "metadata": {},
   "outputs": [
    {
     "data": {
      "text/plain": [
       "0    0.625075\n",
       "1    0.374925\n",
       "Name: TEM_TRANSPORTE, dtype: float64"
      ]
     },
     "execution_count": 74,
     "metadata": {},
     "output_type": "execute_result"
    }
   ],
   "source": [
    "df_nao_fez_prova_2dia[\"TEM_TRANSPORTE\"].value_counts(normalize = True)"
   ]
  },
  {
   "cell_type": "markdown",
   "metadata": {},
   "source": [
    "# Análise de Desempenho:\n",
    "<ul>\n",
    "   <li> Os alunos que fizeram todas as provas tem melhor notas no 1o dia daqueles que faltaram as provas do 2o. dia ? </li>\n",
    " <ul>"
   ]
  },
  {
   "cell_type": "code",
   "execution_count": 195,
   "metadata": {},
   "outputs": [
    {
     "data": {
      "text/html": [
       "<div>\n",
       "<style scoped>\n",
       "    .dataframe tbody tr th:only-of-type {\n",
       "        vertical-align: middle;\n",
       "    }\n",
       "\n",
       "    .dataframe tbody tr th {\n",
       "        vertical-align: top;\n",
       "    }\n",
       "\n",
       "    .dataframe thead th {\n",
       "        text-align: right;\n",
       "    }\n",
       "</style>\n",
       "<table border=\"1\" class=\"dataframe\">\n",
       "  <thead>\n",
       "    <tr style=\"text-align: right;\">\n",
       "      <th></th>\n",
       "      <th>NU_NOTA_CN</th>\n",
       "      <th>NU_NOTA_CH</th>\n",
       "      <th>NU_NOTA_LC</th>\n",
       "      <th>NU_NOTA_MT</th>\n",
       "      <th>NU_NOTA_REDACAO</th>\n",
       "      <th>TEM_TRANSPORTE</th>\n",
       "      <th>NU_NOTA_TOTAL</th>\n",
       "      <th>NU_NOTA_TOTAL_1DIA</th>\n",
       "      <th>NU_NOTA_TOTAL_2DIA</th>\n",
       "      <th>TP_FEZ_PROVA_2DIA</th>\n",
       "    </tr>\n",
       "  </thead>\n",
       "  <tbody>\n",
       "    <tr>\n",
       "      <th>count</th>\n",
       "      <td>71368.000000</td>\n",
       "      <td>71215.000000</td>\n",
       "      <td>71215.000000</td>\n",
       "      <td>71368.000000</td>\n",
       "      <td>71215.000000</td>\n",
       "      <td>71413.000000</td>\n",
       "      <td>71413.000000</td>\n",
       "      <td>71413.000000</td>\n",
       "      <td>71413.000000</td>\n",
       "      <td>71413.0</td>\n",
       "    </tr>\n",
       "    <tr>\n",
       "      <th>mean</th>\n",
       "      <td>489.546912</td>\n",
       "      <td>523.904211</td>\n",
       "      <td>533.426990</td>\n",
       "      <td>543.439459</td>\n",
       "      <td>614.814295</td>\n",
       "      <td>0.459720</td>\n",
       "      <td>2699.844745</td>\n",
       "      <td>1667.509298</td>\n",
       "      <td>1032.335447</td>\n",
       "      <td>1.0</td>\n",
       "    </tr>\n",
       "    <tr>\n",
       "      <th>std</th>\n",
       "      <td>82.692799</td>\n",
       "      <td>84.790969</td>\n",
       "      <td>64.203059</td>\n",
       "      <td>122.969716</td>\n",
       "      <td>194.246263</td>\n",
       "      <td>0.498378</td>\n",
       "      <td>470.370081</td>\n",
       "      <td>314.426042</td>\n",
       "      <td>191.819624</td>\n",
       "      <td>0.0</td>\n",
       "    </tr>\n",
       "    <tr>\n",
       "      <th>min</th>\n",
       "      <td>0.000000</td>\n",
       "      <td>0.000000</td>\n",
       "      <td>0.000000</td>\n",
       "      <td>0.000000</td>\n",
       "      <td>0.000000</td>\n",
       "      <td>0.000000</td>\n",
       "      <td>340.000000</td>\n",
       "      <td>0.000000</td>\n",
       "      <td>0.000000</td>\n",
       "      <td>1.0</td>\n",
       "    </tr>\n",
       "    <tr>\n",
       "      <th>25%</th>\n",
       "      <td>423.500000</td>\n",
       "      <td>462.500000</td>\n",
       "      <td>496.100000</td>\n",
       "      <td>443.400000</td>\n",
       "      <td>520.000000</td>\n",
       "      <td>0.000000</td>\n",
       "      <td>2374.000000</td>\n",
       "      <td>1481.900000</td>\n",
       "      <td>882.600000</td>\n",
       "      <td>1.0</td>\n",
       "    </tr>\n",
       "    <tr>\n",
       "      <th>50%</th>\n",
       "      <td>483.200000</td>\n",
       "      <td>530.100000</td>\n",
       "      <td>539.400000</td>\n",
       "      <td>518.300000</td>\n",
       "      <td>620.000000</td>\n",
       "      <td>0.000000</td>\n",
       "      <td>2667.300000</td>\n",
       "      <td>1678.600000</td>\n",
       "      <td>993.500000</td>\n",
       "      <td>1.0</td>\n",
       "    </tr>\n",
       "    <tr>\n",
       "      <th>75%</th>\n",
       "      <td>549.800000</td>\n",
       "      <td>586.000000</td>\n",
       "      <td>578.700000</td>\n",
       "      <td>628.400000</td>\n",
       "      <td>740.000000</td>\n",
       "      <td>1.000000</td>\n",
       "      <td>3017.600000</td>\n",
       "      <td>1879.600000</td>\n",
       "      <td>1160.100000</td>\n",
       "      <td>1.0</td>\n",
       "    </tr>\n",
       "    <tr>\n",
       "      <th>max</th>\n",
       "      <td>841.800000</td>\n",
       "      <td>808.500000</td>\n",
       "      <td>784.900000</td>\n",
       "      <td>985.500000</td>\n",
       "      <td>1000.000000</td>\n",
       "      <td>1.000000</td>\n",
       "      <td>4154.100000</td>\n",
       "      <td>2481.800000</td>\n",
       "      <td>1827.300000</td>\n",
       "      <td>1.0</td>\n",
       "    </tr>\n",
       "  </tbody>\n",
       "</table>\n",
       "</div>"
      ],
      "text/plain": [
       "         NU_NOTA_CN    NU_NOTA_CH    NU_NOTA_LC    NU_NOTA_MT  \\\n",
       "count  71368.000000  71215.000000  71215.000000  71368.000000   \n",
       "mean     489.546912    523.904211    533.426990    543.439459   \n",
       "std       82.692799     84.790969     64.203059    122.969716   \n",
       "min        0.000000      0.000000      0.000000      0.000000   \n",
       "25%      423.500000    462.500000    496.100000    443.400000   \n",
       "50%      483.200000    530.100000    539.400000    518.300000   \n",
       "75%      549.800000    586.000000    578.700000    628.400000   \n",
       "max      841.800000    808.500000    784.900000    985.500000   \n",
       "\n",
       "       NU_NOTA_REDACAO  TEM_TRANSPORTE  NU_NOTA_TOTAL  NU_NOTA_TOTAL_1DIA  \\\n",
       "count     71215.000000    71413.000000   71413.000000        71413.000000   \n",
       "mean        614.814295        0.459720    2699.844745         1667.509298   \n",
       "std         194.246263        0.498378     470.370081          314.426042   \n",
       "min           0.000000        0.000000     340.000000            0.000000   \n",
       "25%         520.000000        0.000000    2374.000000         1481.900000   \n",
       "50%         620.000000        0.000000    2667.300000         1678.600000   \n",
       "75%         740.000000        1.000000    3017.600000         1879.600000   \n",
       "max        1000.000000        1.000000    4154.100000         2481.800000   \n",
       "\n",
       "       NU_NOTA_TOTAL_2DIA  TP_FEZ_PROVA_2DIA  \n",
       "count        71413.000000            71413.0  \n",
       "mean          1032.335447                1.0  \n",
       "std            191.819624                0.0  \n",
       "min              0.000000                1.0  \n",
       "25%            882.600000                1.0  \n",
       "50%            993.500000                1.0  \n",
       "75%           1160.100000                1.0  \n",
       "max           1827.300000                1.0  "
      ]
     },
     "execution_count": 195,
     "metadata": {},
     "output_type": "execute_result"
    }
   ],
   "source": [
    "df_fez_prova_2dia.describe()"
   ]
  },
  {
   "cell_type": "code",
   "execution_count": 196,
   "metadata": {},
   "outputs": [
    {
     "data": {
      "text/html": [
       "<div>\n",
       "<style scoped>\n",
       "    .dataframe tbody tr th:only-of-type {\n",
       "        vertical-align: middle;\n",
       "    }\n",
       "\n",
       "    .dataframe tbody tr th {\n",
       "        vertical-align: top;\n",
       "    }\n",
       "\n",
       "    .dataframe thead th {\n",
       "        text-align: right;\n",
       "    }\n",
       "</style>\n",
       "<table border=\"1\" class=\"dataframe\">\n",
       "  <thead>\n",
       "    <tr style=\"text-align: right;\">\n",
       "      <th></th>\n",
       "      <th>NU_NOTA_CN</th>\n",
       "      <th>NU_NOTA_CH</th>\n",
       "      <th>NU_NOTA_LC</th>\n",
       "      <th>NU_NOTA_MT</th>\n",
       "      <th>NU_NOTA_REDACAO</th>\n",
       "      <th>TEM_TRANSPORTE</th>\n",
       "      <th>NU_NOTA_TOTAL</th>\n",
       "      <th>NU_NOTA_TOTAL_1DIA</th>\n",
       "      <th>NU_NOTA_TOTAL_2DIA</th>\n",
       "      <th>TP_FEZ_PROVA_2DIA</th>\n",
       "    </tr>\n",
       "  </thead>\n",
       "  <tbody>\n",
       "    <tr>\n",
       "      <th>count</th>\n",
       "      <td>0.0</td>\n",
       "      <td>3326.000000</td>\n",
       "      <td>3326.000000</td>\n",
       "      <td>0.0</td>\n",
       "      <td>3326.000000</td>\n",
       "      <td>3326.000000</td>\n",
       "      <td>3326.000000</td>\n",
       "      <td>3326.000000</td>\n",
       "      <td>3326.0</td>\n",
       "      <td>3326.0</td>\n",
       "    </tr>\n",
       "    <tr>\n",
       "      <th>mean</th>\n",
       "      <td>NaN</td>\n",
       "      <td>469.801684</td>\n",
       "      <td>496.607667</td>\n",
       "      <td>NaN</td>\n",
       "      <td>450.661455</td>\n",
       "      <td>0.374925</td>\n",
       "      <td>1417.070806</td>\n",
       "      <td>1417.070806</td>\n",
       "      <td>0.0</td>\n",
       "      <td>0.0</td>\n",
       "    </tr>\n",
       "    <tr>\n",
       "      <th>std</th>\n",
       "      <td>NaN</td>\n",
       "      <td>96.513501</td>\n",
       "      <td>76.410711</td>\n",
       "      <td>NaN</td>\n",
       "      <td>240.153801</td>\n",
       "      <td>0.484176</td>\n",
       "      <td>334.049230</td>\n",
       "      <td>334.049230</td>\n",
       "      <td>0.0</td>\n",
       "      <td>0.0</td>\n",
       "    </tr>\n",
       "    <tr>\n",
       "      <th>min</th>\n",
       "      <td>NaN</td>\n",
       "      <td>0.000000</td>\n",
       "      <td>0.000000</td>\n",
       "      <td>NaN</td>\n",
       "      <td>0.000000</td>\n",
       "      <td>0.000000</td>\n",
       "      <td>240.000000</td>\n",
       "      <td>240.000000</td>\n",
       "      <td>0.0</td>\n",
       "      <td>0.0</td>\n",
       "    </tr>\n",
       "    <tr>\n",
       "      <th>25%</th>\n",
       "      <td>NaN</td>\n",
       "      <td>411.450000</td>\n",
       "      <td>453.625000</td>\n",
       "      <td>NaN</td>\n",
       "      <td>340.000000</td>\n",
       "      <td>0.000000</td>\n",
       "      <td>1203.650000</td>\n",
       "      <td>1203.650000</td>\n",
       "      <td>0.0</td>\n",
       "      <td>0.0</td>\n",
       "    </tr>\n",
       "    <tr>\n",
       "      <th>50%</th>\n",
       "      <td>NaN</td>\n",
       "      <td>471.350000</td>\n",
       "      <td>506.350000</td>\n",
       "      <td>NaN</td>\n",
       "      <td>520.000000</td>\n",
       "      <td>0.000000</td>\n",
       "      <td>1459.900000</td>\n",
       "      <td>1459.900000</td>\n",
       "      <td>0.0</td>\n",
       "      <td>0.0</td>\n",
       "    </tr>\n",
       "    <tr>\n",
       "      <th>75%</th>\n",
       "      <td>NaN</td>\n",
       "      <td>533.875000</td>\n",
       "      <td>548.000000</td>\n",
       "      <td>NaN</td>\n",
       "      <td>600.000000</td>\n",
       "      <td>1.000000</td>\n",
       "      <td>1654.100000</td>\n",
       "      <td>1654.100000</td>\n",
       "      <td>0.0</td>\n",
       "      <td>0.0</td>\n",
       "    </tr>\n",
       "    <tr>\n",
       "      <th>max</th>\n",
       "      <td>NaN</td>\n",
       "      <td>711.400000</td>\n",
       "      <td>664.900000</td>\n",
       "      <td>NaN</td>\n",
       "      <td>980.000000</td>\n",
       "      <td>1.000000</td>\n",
       "      <td>2297.300000</td>\n",
       "      <td>2297.300000</td>\n",
       "      <td>0.0</td>\n",
       "      <td>0.0</td>\n",
       "    </tr>\n",
       "  </tbody>\n",
       "</table>\n",
       "</div>"
      ],
      "text/plain": [
       "       NU_NOTA_CN   NU_NOTA_CH   NU_NOTA_LC  NU_NOTA_MT  NU_NOTA_REDACAO  \\\n",
       "count         0.0  3326.000000  3326.000000         0.0      3326.000000   \n",
       "mean          NaN   469.801684   496.607667         NaN       450.661455   \n",
       "std           NaN    96.513501    76.410711         NaN       240.153801   \n",
       "min           NaN     0.000000     0.000000         NaN         0.000000   \n",
       "25%           NaN   411.450000   453.625000         NaN       340.000000   \n",
       "50%           NaN   471.350000   506.350000         NaN       520.000000   \n",
       "75%           NaN   533.875000   548.000000         NaN       600.000000   \n",
       "max           NaN   711.400000   664.900000         NaN       980.000000   \n",
       "\n",
       "       TEM_TRANSPORTE  NU_NOTA_TOTAL  NU_NOTA_TOTAL_1DIA  NU_NOTA_TOTAL_2DIA  \\\n",
       "count     3326.000000    3326.000000         3326.000000              3326.0   \n",
       "mean         0.374925    1417.070806         1417.070806                 0.0   \n",
       "std          0.484176     334.049230          334.049230                 0.0   \n",
       "min          0.000000     240.000000          240.000000                 0.0   \n",
       "25%          0.000000    1203.650000         1203.650000                 0.0   \n",
       "50%          0.000000    1459.900000         1459.900000                 0.0   \n",
       "75%          1.000000    1654.100000         1654.100000                 0.0   \n",
       "max          1.000000    2297.300000         2297.300000                 0.0   \n",
       "\n",
       "       TP_FEZ_PROVA_2DIA  \n",
       "count             3326.0  \n",
       "mean                 0.0  \n",
       "std                  0.0  \n",
       "min                  0.0  \n",
       "25%                  0.0  \n",
       "50%                  0.0  \n",
       "75%                  0.0  \n",
       "max                  0.0  "
      ]
     },
     "execution_count": 196,
     "metadata": {},
     "output_type": "execute_result"
    }
   ],
   "source": [
    "df_nao_fez_prova_2dia.describe()"
   ]
  },
  {
   "cell_type": "code",
   "execution_count": 193,
   "metadata": {},
   "outputs": [
    {
     "data": {
      "text/plain": [
       "count    71413.000000\n",
       "mean      1667.509298\n",
       "std        314.426042\n",
       "min          0.000000\n",
       "25%       1481.900000\n",
       "50%       1678.600000\n",
       "75%       1879.600000\n",
       "max       2481.800000\n",
       "Name: NU_NOTA_TOTAL_1DIA, dtype: float64"
      ]
     },
     "execution_count": 193,
     "metadata": {},
     "output_type": "execute_result"
    }
   ],
   "source": [
    "df_fez_prova_2dia['NU_NOTA_TOTAL_1DIA'].describe()"
   ]
  },
  {
   "cell_type": "code",
   "execution_count": 194,
   "metadata": {},
   "outputs": [
    {
     "data": {
      "text/plain": [
       "count    3326.000000\n",
       "mean     1417.070806\n",
       "std       334.049230\n",
       "min       240.000000\n",
       "25%      1203.650000\n",
       "50%      1459.900000\n",
       "75%      1654.100000\n",
       "max      2297.300000\n",
       "Name: NU_NOTA_TOTAL_1DIA, dtype: float64"
      ]
     },
     "execution_count": 194,
     "metadata": {},
     "output_type": "execute_result"
    }
   ],
   "source": [
    "df_nao_fez_prova_2dia['NU_NOTA_TOTAL_1DIA'].describe()"
   ]
  },
  {
   "cell_type": "code",
   "execution_count": 80,
   "metadata": {},
   "outputs": [
    {
     "data": {
      "text/plain": [
       "<seaborn.axisgrid.FacetGrid at 0x7f0513602a20>"
      ]
     },
     "execution_count": 80,
     "metadata": {},
     "output_type": "execute_result"
    },
    {
     "data": {
      "image/png": "[encoded data removed]",
      "text/plain": [
       "<Figure size 360x360 with 1 Axes>"
      ]
     },
     "metadata": {
      "needs_background": "light"
     },
     "output_type": "display_data"
    }
   ],
   "source": [
    "sns.displot(df_nao_fez_prova_2dia, x = \"NU_NOTA_TOTAL_1DIA\")"
   ]
  },
  {
   "cell_type": "code",
   "execution_count": 81,
   "metadata": {},
   "outputs": [
    {
     "data": {
      "text/plain": [
       "<seaborn.axisgrid.FacetGrid at 0x7f052b685240>"
      ]
     },
     "execution_count": 81,
     "metadata": {},
     "output_type": "execute_result"
    },
    {
     "data": {
      "image/png": "[encoded data removed]",
      "text/plain": [
       "<Figure size 360x360 with 1 Axes>"
      ]
     },
     "metadata": {
      "needs_background": "light"
     },
     "output_type": "display_data"
    }
   ],
   "source": [
    "sns.displot(df_nao_fez_prova_2dia, x = \"NU_NOTA_REDACAO\")"
   ]
  },
  {
   "cell_type": "code",
   "execution_count": 82,
   "metadata": {},
   "outputs": [
    {
     "data": {
      "text/plain": [
       "<seaborn.axisgrid.FacetGrid at 0x7f0510d41390>"
      ]
     },
     "execution_count": 82,
     "metadata": {},
     "output_type": "execute_result"
    },
    {
     "data": {
      "image/png": "[encoded data removed]",
      "text/plain": [
       "<Figure size 360x360 with 1 Axes>"
      ]
     },
     "metadata": {
      "needs_background": "light"
     },
     "output_type": "display_data"
    }
   ],
   "source": [
    "sns.displot(df_fez_prova_2dia, x = \"NU_NOTA_REDACAO\")"
   ]
  },
  {
   "cell_type": "markdown",
   "metadata": {},
   "source": [
    "# Conclusão\n",
    "<ul>\n",
    "   <li> Escrever os resultados</li>\n",
    "    <li> 1o - o fato da família ter ou não um meio de transporte influencia diretamente nas notas </li>\n",
    "    <li> Os alunos que faltaram tem um desempenho abaixo da média daqueles que não faltaram </li>\n",
    " <ul>"
   ]
  },
  {
   "cell_type": "code",
   "execution_count": 83,
   "metadata": {},
   "outputs": [
    {
     "name": "stdout",
     "output_type": "stream",
     "text": [
      "71413 3326\n"
     ]
    }
   ],
   "source": [
    "print(len(df_fez_prova_2dia), len(df_nao_fez_prova_2dia))"
   ]
  },
  {
   "cell_type": "code",
   "execution_count": 199,
   "metadata": {},
   "outputs": [
    {
     "name": "stdout",
     "output_type": "stream",
     "text": [
      "0.044501531998019775\n"
     ]
    }
   ],
   "source": [
    "print(len(df_nao_fez_prova_2dia)/( len(df_fez_prova_2dia) + len(df_nao_fez_prova_2dia)  )     ) "
   ]
  },
  {
   "cell_type": "code",
   "execution_count": 108,
   "metadata": {},
   "outputs": [],
   "source": [
    "df['TEM_TRANSPORTE'] = df['TEM_TRANSPORTE'].astype('category')"
   ]
  },
  {
   "cell_type": "markdown",
   "metadata": {},
   "source": [
    "# Modelo de Previsão de Faltas no 2o. Dia:\n",
    "<ul>\n",
    "    <li> Seleção de Colunas </li>  \n",
    "<ul>"
   ]
  },
  {
   "cell_type": "code",
   "execution_count": 150,
   "metadata": {},
   "outputs": [],
   "source": [
    "cols = [\"NU_NOTA_LC\",\"NU_NOTA_CH\",\"NU_NOTA_REDACAO\", \"TEM_TRANSPORTE\", \"Q006\"]\n",
    "target = \"TP_FEZ_PROVA_2DIA\"\n",
    "feat = [\"NU_NOTA_LC\",\"NU_NOTA_CH\",\"NU_NOTA_REDACAO\", \"TEM_TRANSPORTE\", \"Q006\", \"TP_FEZ_PROVA_2DIA\"]"
   ]
  },
  {
   "cell_type": "code",
   "execution_count": 151,
   "metadata": {},
   "outputs": [],
   "source": [
    "df_model = df[feat].dropna()"
   ]
  },
  {
   "cell_type": "code",
   "execution_count": 152,
   "metadata": {},
   "outputs": [],
   "source": [
    "objFeatures = df_model.select_dtypes(include=\"object\").columns\n",
    "from sklearn import preprocessing\n",
    "le = preprocessing.LabelEncoder()\n",
    "for feat in objFeatures:\n",
    "    df_model[feat] = le.fit_transform(df_model[feat].astype(str))"
   ]
  },
  {
   "cell_type": "code",
   "execution_count": 153,
   "metadata": {},
   "outputs": [
    {
     "data": {
      "text/html": [
       "<div>\n",
       "<style scoped>\n",
       "    .dataframe tbody tr th:only-of-type {\n",
       "        vertical-align: middle;\n",
       "    }\n",
       "\n",
       "    .dataframe tbody tr th {\n",
       "        vertical-align: top;\n",
       "    }\n",
       "\n",
       "    .dataframe thead th {\n",
       "        text-align: right;\n",
       "    }\n",
       "</style>\n",
       "<table border=\"1\" class=\"dataframe\">\n",
       "  <thead>\n",
       "    <tr style=\"text-align: right;\">\n",
       "      <th></th>\n",
       "      <th>NU_NOTA_LC</th>\n",
       "      <th>NU_NOTA_CH</th>\n",
       "      <th>NU_NOTA_REDACAO</th>\n",
       "      <th>TEM_TRANSPORTE</th>\n",
       "      <th>Q006</th>\n",
       "      <th>TP_FEZ_PROVA_2DIA</th>\n",
       "    </tr>\n",
       "  </thead>\n",
       "  <tbody>\n",
       "    <tr>\n",
       "      <th>0</th>\n",
       "      <td>467.0</td>\n",
       "      <td>453.2</td>\n",
       "      <td>620.0</td>\n",
       "      <td>0</td>\n",
       "      <td>2</td>\n",
       "      <td>1</td>\n",
       "    </tr>\n",
       "    <tr>\n",
       "      <th>4</th>\n",
       "      <td>555.7</td>\n",
       "      <td>625.6</td>\n",
       "      <td>680.0</td>\n",
       "      <td>0</td>\n",
       "      <td>2</td>\n",
       "      <td>1</td>\n",
       "    </tr>\n",
       "    <tr>\n",
       "      <th>5</th>\n",
       "      <td>577.7</td>\n",
       "      <td>611.5</td>\n",
       "      <td>660.0</td>\n",
       "      <td>0</td>\n",
       "      <td>1</td>\n",
       "      <td>1</td>\n",
       "    </tr>\n",
       "    <tr>\n",
       "      <th>7</th>\n",
       "      <td>521.6</td>\n",
       "      <td>552.7</td>\n",
       "      <td>580.0</td>\n",
       "      <td>1</td>\n",
       "      <td>2</td>\n",
       "      <td>1</td>\n",
       "    </tr>\n",
       "    <tr>\n",
       "      <th>9</th>\n",
       "      <td>435.7</td>\n",
       "      <td>473.2</td>\n",
       "      <td>460.0</td>\n",
       "      <td>1</td>\n",
       "      <td>2</td>\n",
       "      <td>1</td>\n",
       "    </tr>\n",
       "  </tbody>\n",
       "</table>\n",
       "</div>"
      ],
      "text/plain": [
       "   NU_NOTA_LC  NU_NOTA_CH  NU_NOTA_REDACAO TEM_TRANSPORTE  Q006  \\\n",
       "0       467.0       453.2            620.0              0     2   \n",
       "4       555.7       625.6            680.0              0     2   \n",
       "5       577.7       611.5            660.0              0     1   \n",
       "7       521.6       552.7            580.0              1     2   \n",
       "9       435.7       473.2            460.0              1     2   \n",
       "\n",
       "   TP_FEZ_PROVA_2DIA  \n",
       "0                  1  \n",
       "4                  1  \n",
       "5                  1  \n",
       "7                  1  \n",
       "9                  1  "
      ]
     },
     "execution_count": 153,
     "metadata": {},
     "output_type": "execute_result"
    }
   ],
   "source": [
    "df_model.head()"
   ]
  },
  {
   "cell_type": "code",
   "execution_count": 156,
   "metadata": {},
   "outputs": [],
   "source": [
    "X = df_model[cols]\n",
    "Y = df_model[target]"
   ]
  },
  {
   "cell_type": "code",
   "execution_count": 200,
   "metadata": {},
   "outputs": [],
   "source": [
    "from sklearn.model_selection import train_test_split\n",
    "from sklearn.svm import SVR\n",
    "from sklearn.pipeline import make_pipeline\n",
    "from sklearn.preprocessing import StandardScaler\n",
    "\n",
    "from sklearn.discriminant_analysis import LinearDiscriminantAnalysis\n",
    "from sklearn.neighbors import KNeighborsClassifier\n",
    "from sklearn.naive_bayes import GaussianNB\n",
    "from sklearn.tree import DecisionTreeClassifier\n",
    "from sklearn.svm import SVC\n",
    "from sklearn.linear_model import LogisticRegression\n",
    "\n",
    "from sklearn.metrics import classification_report\n",
    "from sklearn.metrics import confusion_matrix\n",
    "from sklearn.metrics import accuracy_score"
   ]
  },
  {
   "cell_type": "code",
   "execution_count": 205,
   "metadata": {},
   "outputs": [],
   "source": [
    "seed = 1234\n",
    "X_train, X_test, y_train, y_test = train_test_split(X,Y, test_size = 0.2, random_state = seed )"
   ]
  },
  {
   "cell_type": "code",
   "execution_count": 159,
   "metadata": {},
   "outputs": [
    {
     "data": {
      "text/plain": [
       "59632"
      ]
     },
     "execution_count": 159,
     "metadata": {},
     "output_type": "execute_result"
    }
   ],
   "source": [
    "len(x_train)"
   ]
  },
  {
   "cell_type": "code",
   "execution_count": 203,
   "metadata": {},
   "outputs": [],
   "source": [
    "KNN_model = KNeighborsClassifier(n_neighbors=5)"
   ]
  },
  {
   "cell_type": "code",
   "execution_count": 206,
   "metadata": {},
   "outputs": [
    {
     "data": {
      "text/plain": [
       "KNeighborsClassifier()"
      ]
     },
     "execution_count": 206,
     "metadata": {},
     "output_type": "execute_result"
    }
   ],
   "source": [
    "KNN_model.fit(X_train, y_train)"
   ]
  },
  {
   "cell_type": "code",
   "execution_count": 207,
   "metadata": {},
   "outputs": [],
   "source": [
    "KNN_prediction = KNN_model.predict(X_test)"
   ]
  },
  {
   "cell_type": "code",
   "execution_count": 208,
   "metadata": {},
   "outputs": [
    {
     "name": "stdout",
     "output_type": "stream",
     "text": [
      "0.953450935676437\n",
      "              precision    recall  f1-score   support\n",
      "\n",
      "           0       0.03      0.26      0.05        68\n",
      "           1       1.00      0.96      0.98     14841\n",
      "\n",
      "    accuracy                           0.95     14909\n",
      "   macro avg       0.51      0.61      0.51     14909\n",
      "weighted avg       0.99      0.95      0.97     14909\n",
      "\n"
     ]
    }
   ],
   "source": [
    "print(accuracy_score(KNN_prediction, y_test))\n",
    "print(classification_report(KNN_prediction, y_test))"
   ]
  },
  {
   "cell_type": "markdown",
   "metadata": {},
   "source": [
    "# Conclusão |  Resultados iniciais para o Modelo\n",
    "<ul>\n",
    "    <li> De acordo com o resultado inicial, a acurácia apresenta um valor alto </li>\n",
    "    <li> É importante testar outros modelos e outros datasets (outras cidades) para validar tal abordagem  </li>\n",
    " <ul>"
   ]
  },
  {
   "cell_type": "code",
   "execution_count": null,
   "metadata": {},
   "outputs": [],
   "source": []
  }
 ],
 "metadata": {
  "kernelspec": {
   "display_name": "Python 3",
   "language": "python",
   "name": "python3"
  },
  "language_info": {
   "codemirror_mode": {
    "name": "ipython",
    "version": 3
   },
   "file_extension": ".py",
   "mimetype": "text/x-python",
   "name": "python",
   "nbconvert_exporter": "python",
   "pygments_lexer": "ipython3",
   "version": "3.6.9"
  }
 },
 "nbformat": 4,
 "nbformat_minor": 4
}
